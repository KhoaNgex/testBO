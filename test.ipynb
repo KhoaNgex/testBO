{
 "cells": [
  {
   "cell_type": "code",
   "execution_count": 1,
   "source": [
    "import random\n",
    "import time"
   ],
   "outputs": [],
   "metadata": {}
  },
  {
   "cell_type": "code",
   "execution_count": 2,
   "source": [
    "import jax\n",
    "import jax.numpy as jnp"
   ],
   "outputs": [],
   "metadata": {}
  },
  {
   "cell_type": "code",
   "execution_count": 3,
   "source": [
    "import matplotlib\n",
    "import matplotlib.pyplot as plt"
   ],
   "outputs": [],
   "metadata": {}
  },
  {
   "cell_type": "code",
   "execution_count": 4,
   "source": [
    "from basics import definitions as defs\n",
    "from gp_utils import gp"
   ],
   "outputs": [],
   "metadata": {}
  },
  {
   "cell_type": "code",
   "execution_count": 5,
   "source": [
    "font = {\n",
    "    'family': 'serif',\n",
    "    'weight': 'normal',\n",
    "    'size': 7,\n",
    "}\n",
    "axes = {'titlesize': 7, 'labelsize': 7}\n",
    "matplotlib.rc('font', **font)\n",
    "matplotlib.rc('axes', **axes)\n",
    "\n",
    "GPParams = defs.GPParams\n",
    "SubDataset = defs.SubDataset"
   ],
   "outputs": [],
   "metadata": {}
  },
  {
   "cell_type": "code",
   "execution_count": 6,
   "source": [
    "def plot_function_samples(\n",
    "    mean_func,\n",
    "    cov_func,\n",
    "    params,\n",
    "    warp_func=None,\n",
    "    num_samples=1,\n",
    "    random_seed=0,\n",
    "    x_min=0,\n",
    "    x_max=1,\n",
    "):\n",
    "  \"\"\"Plot function samples from a 1-D Gaussian process.\"\"\"\n",
    "  key = jax.random.PRNGKey(random_seed)\n",
    "  key, y_key = jax.random.split(key, 2)\n",
    "  x = jnp.linspace(x_min, x_max, 100)[:, None]\n",
    "  y = gp.sample_from_gp(\n",
    "      y_key,\n",
    "      mean_func,\n",
    "      cov_func,\n",
    "      params,\n",
    "      x,\n",
    "      warp_func=warp_func,\n",
    "      num_samples=num_samples,\n",
    "      method='svd',\n",
    "  )\n",
    "  fig = plt.figure(dpi=200, figsize=(2, 1))\n",
    "  plt.plot(x, y)\n",
    "  plt.xlabel('x')\n",
    "  plt.ylabel('f(x)')"
   ],
   "outputs": [],
   "metadata": {}
  },
  {
   "cell_type": "code",
   "execution_count": 7,
   "source": [
    "###########################################################\n",
    "### Define a ground truth GP and generate training data ###\n",
    "###########################################################\n",
    "\n",
    "# @title Define a ground truth GP and generate training data\n",
    "params = GPParams(\n",
    "    model={\n",
    "        'lengthscale': 0.1,\n",
    "        'signal_variance': 10.0,\n",
    "        'noise_variance': 1e-6,\n",
    "        'constant': 5.0,\n",
    "    }\n",
    ")  # parameters of the GP"
   ],
   "outputs": [],
   "metadata": {}
  }
 ],
 "nbformat": 4,
 "nbformat_minor": 2,
 "metadata": {
  "language_info": {
   "codemirror_mode": {
    "name": "ipython",
    "version": 3
   },
   "file_extension": ".py",
   "mimetype": "text/x-python",
   "name": "python",
   "nbconvert_exporter": "python",
   "pygments_lexer": "ipython3",
   "version": 3
  },
  "orig_nbformat": 4
 }
}